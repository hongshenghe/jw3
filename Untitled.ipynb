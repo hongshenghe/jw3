{
 "cells": [
  {
   "cell_type": "code",
   "execution_count": 2,
   "id": "8284d6c2",
   "metadata": {
    "scrolled": true
   },
   "outputs": [],
   "source": [
    "import os\n",
    "import shutil\n",
    "from pathlib import Path\n",
    "\n",
    "import pandas as pd\n",
    "\n",
    "from lib.base import ensurePath, generate_batchid\n",
    "from lib.rule import JWRule, LoadRules\n",
    "from lib.zero import JWZero\n",
    "from lib.dict import JWDict\n",
    "\n",
    "work_dir = os.getcwd()\n",
    "zero = JWZero(work_dir,\n",
    "              os.path.join(\"upload\", \"00-天翼云集成实施基本信息表模板(网络和服务器设备表含公式)20230101(1).xlsx\"))\n",
    "\n",
    "jwDict = JWDict(work_dir,\n",
    "                os.path.join(\"upload\", \"dict.xlsx\"))\n"
   ]
  },
  {
   "cell_type": "code",
   "execution_count": 3,
   "id": "baf62b02",
   "metadata": {},
   "outputs": [],
   "source": [
    "network = zero.GetData(\"网络设备\")"
   ]
  },
  {
   "cell_type": "code",
   "execution_count": 11,
   "id": "c84babb0",
   "metadata": {},
   "outputs": [],
   "source": [
    "group=network[\"网管网（包括iLO、ipmi）\"].value_counts(ascending=True).reset_index()\n",
    "group.columns=[\"ip\",\"cnt\"]"
   ]
  },
  {
   "cell_type": "code",
   "execution_count": 23,
   "id": "cb705c55",
   "metadata": {},
   "outputs": [
    {
     "data": {
      "text/plain": [
       "2"
      ]
     },
     "execution_count": 23,
     "metadata": {},
     "output_type": "execute_result"
    }
   ],
   "source": [
    "group[group[\"ip\"]==\"10.16.157.25\"][\"cnt\"].iloc[0]"
   ]
  },
  {
   "cell_type": "code",
   "execution_count": null,
   "id": "08e51e30",
   "metadata": {},
   "outputs": [],
   "source": []
  }
 ],
 "metadata": {
  "kernelspec": {
   "display_name": "Python 3 (ipykernel)",
   "language": "python",
   "name": "python3"
  },
  "language_info": {
   "codemirror_mode": {
    "name": "ipython",
    "version": 3
   },
   "file_extension": ".py",
   "mimetype": "text/x-python",
   "name": "python",
   "nbconvert_exporter": "python",
   "pygments_lexer": "ipython3",
   "version": "3.10.9"
  }
 },
 "nbformat": 4,
 "nbformat_minor": 5
}
