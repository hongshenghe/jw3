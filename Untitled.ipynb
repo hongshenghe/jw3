{
 "cells": [
  {
   "cell_type": "code",
   "execution_count": 1,
   "id": "8284d6c2",
   "metadata": {
    "scrolled": true
   },
   "outputs": [],
   "source": [
    "import os\n",
    "import shutil\n",
    "from pathlib import Path\n",
    "\n",
    "import pandas as pd\n",
    "\n",
    "from lib.base import ensurePath, generate_batchid\n",
    "from lib.rule import JWRule, LoadRules\n",
    "from lib.zero import JWZero\n",
    "from lib.dict import JWDict\n",
    "\n",
    "work_dir = os.getcwd()\n",
    "zero = JWZero(work_dir,\n",
    "              os.path.join(\"upload\", \"00-天翼云集成实施基本信息表模板(网络和服务器设备表含公式)20230101(1).xlsx\"))\n",
    "\n",
    "jwDict = JWDict(work_dir,\n",
    "                os.path.join(\"upload\", \"dict.xlsx\"))\n",
    "fetched_dict = jwDict.GetDict(\"4A-web资产\")"
   ]
  },
  {
   "cell_type": "code",
   "execution_count": 2,
   "id": "baf62b02",
   "metadata": {},
   "outputs": [],
   "source": [
    "source_data = zero.GetData(\"网络设备\")"
   ]
  },
  {
   "cell_type": "code",
   "execution_count": 3,
   "id": "c84babb0",
   "metadata": {},
   "outputs": [],
   "source": [
    "_4Alist = []\n",
    "for k, v in fetched_dict.items():\n",
    "    if k not in _4Alist:\n",
    "        _4Alist.append(k)"
   ]
  },
  {
   "cell_type": "code",
   "execution_count": 4,
   "id": "cb705c55",
   "metadata": {},
   "outputs": [],
   "source": [
    "source_sheet=\"网络设备\"\n",
    "col_name=\"设备标签\"\n",
    "value=\"角色\"\n",
    "source_column=\"设备标签\""
   ]
  },
  {
   "cell_type": "code",
   "execution_count": 5,
   "id": "08e51e30",
   "metadata": {},
   "outputs": [
    {
     "data": {
      "text/plain": [
       "Series([], Name: 设备标签, dtype: object)"
      ]
     },
     "execution_count": 5,
     "metadata": {},
     "output_type": "execute_result"
    }
   ],
   "source": [
    "source_data[source_data[value].isin(_4Alist)][source_column]"
   ]
  },
  {
   "cell_type": "code",
   "execution_count": 6,
   "id": "b6ea3ab9",
   "metadata": {},
   "outputs": [],
   "source": [
    "df = pd.DataFrame()"
   ]
  },
  {
   "cell_type": "code",
   "execution_count": 7,
   "id": "4b487f68",
   "metadata": {},
   "outputs": [],
   "source": [
    "df[col_name] = source_data[source_data[value].isin(_4Alist)][source_column]"
   ]
  },
  {
   "cell_type": "code",
   "execution_count": 8,
   "id": "6fa5e3a4",
   "metadata": {},
   "outputs": [
    {
     "data": {
      "text/html": [
       "<div>\n",
       "<style scoped>\n",
       "    .dataframe tbody tr th:only-of-type {\n",
       "        vertical-align: middle;\n",
       "    }\n",
       "\n",
       "    .dataframe tbody tr th {\n",
       "        vertical-align: top;\n",
       "    }\n",
       "\n",
       "    .dataframe thead th {\n",
       "        text-align: right;\n",
       "    }\n",
       "</style>\n",
       "<table border=\"1\" class=\"dataframe\">\n",
       "  <thead>\n",
       "    <tr style=\"text-align: right;\">\n",
       "      <th></th>\n",
       "      <th>设备标签</th>\n",
       "    </tr>\n",
       "  </thead>\n",
       "  <tbody>\n",
       "  </tbody>\n",
       "</table>\n",
       "</div>"
      ],
      "text/plain": [
       "Empty DataFrame\n",
       "Columns: [设备标签]\n",
       "Index: []"
      ]
     },
     "execution_count": 8,
     "metadata": {},
     "output_type": "execute_result"
    }
   ],
   "source": [
    "df"
   ]
  },
  {
   "cell_type": "code",
   "execution_count": 9,
   "id": "3fd657e2",
   "metadata": {},
   "outputs": [
    {
     "data": {
      "text/plain": [
       "0      10.17.29.56\n",
       "1      10.17.29.56\n",
       "2      10.17.29.57\n",
       "3      10.17.29.57\n",
       "4      10.17.29.58\n",
       "          ...     \n",
       "68    10.17.29.101\n",
       "69    10.17.29.102\n",
       "70    10.17.29.103\n",
       "71    10.17.29.104\n",
       "72    10.17.29.105\n",
       "Name: 网管网（包括iLO、ipmi）, Length: 73, dtype: object"
      ]
     },
     "execution_count": 9,
     "metadata": {},
     "output_type": "execute_result"
    }
   ],
   "source": [
    "zero.GetData(\"网络设备\")[\"网管网（包括iLO、ipmi）\"]"
   ]
  },
  {
   "cell_type": "code",
   "execution_count": 10,
   "id": "e40efd82",
   "metadata": {},
   "outputs": [],
   "source": [
    "df[\"资产ip\"] =\"-\""
   ]
  },
  {
   "cell_type": "code",
   "execution_count": 12,
   "id": "ef652b7e",
   "metadata": {},
   "outputs": [],
   "source": [
    "df[\"资产ip\"] = zero.GetData(\"网络设备\")[\"网管网（包括iLO、ipmi）\"]"
   ]
  },
  {
   "cell_type": "code",
   "execution_count": 13,
   "id": "0d29250a",
   "metadata": {},
   "outputs": [
    {
     "data": {
      "text/html": [
       "<div>\n",
       "<style scoped>\n",
       "    .dataframe tbody tr th:only-of-type {\n",
       "        vertical-align: middle;\n",
       "    }\n",
       "\n",
       "    .dataframe tbody tr th {\n",
       "        vertical-align: top;\n",
       "    }\n",
       "\n",
       "    .dataframe thead th {\n",
       "        text-align: right;\n",
       "    }\n",
       "</style>\n",
       "<table border=\"1\" class=\"dataframe\">\n",
       "  <thead>\n",
       "    <tr style=\"text-align: right;\">\n",
       "      <th></th>\n",
       "      <th>设备标签</th>\n",
       "      <th>资产ip</th>\n",
       "    </tr>\n",
       "  </thead>\n",
       "  <tbody>\n",
       "    <tr>\n",
       "      <th>0</th>\n",
       "      <td>NaN</td>\n",
       "      <td>10.17.29.56</td>\n",
       "    </tr>\n",
       "    <tr>\n",
       "      <th>1</th>\n",
       "      <td>NaN</td>\n",
       "      <td>10.17.29.56</td>\n",
       "    </tr>\n",
       "    <tr>\n",
       "      <th>2</th>\n",
       "      <td>NaN</td>\n",
       "      <td>10.17.29.57</td>\n",
       "    </tr>\n",
       "    <tr>\n",
       "      <th>3</th>\n",
       "      <td>NaN</td>\n",
       "      <td>10.17.29.57</td>\n",
       "    </tr>\n",
       "    <tr>\n",
       "      <th>4</th>\n",
       "      <td>NaN</td>\n",
       "      <td>10.17.29.58</td>\n",
       "    </tr>\n",
       "    <tr>\n",
       "      <th>...</th>\n",
       "      <td>...</td>\n",
       "      <td>...</td>\n",
       "    </tr>\n",
       "    <tr>\n",
       "      <th>68</th>\n",
       "      <td>NaN</td>\n",
       "      <td>10.17.29.101</td>\n",
       "    </tr>\n",
       "    <tr>\n",
       "      <th>69</th>\n",
       "      <td>NaN</td>\n",
       "      <td>10.17.29.102</td>\n",
       "    </tr>\n",
       "    <tr>\n",
       "      <th>70</th>\n",
       "      <td>NaN</td>\n",
       "      <td>10.17.29.103</td>\n",
       "    </tr>\n",
       "    <tr>\n",
       "      <th>71</th>\n",
       "      <td>NaN</td>\n",
       "      <td>10.17.29.104</td>\n",
       "    </tr>\n",
       "    <tr>\n",
       "      <th>72</th>\n",
       "      <td>NaN</td>\n",
       "      <td>10.17.29.105</td>\n",
       "    </tr>\n",
       "  </tbody>\n",
       "</table>\n",
       "<p>73 rows × 2 columns</p>\n",
       "</div>"
      ],
      "text/plain": [
       "   设备标签          资产ip\n",
       "0   NaN   10.17.29.56\n",
       "1   NaN   10.17.29.56\n",
       "2   NaN   10.17.29.57\n",
       "3   NaN   10.17.29.57\n",
       "4   NaN   10.17.29.58\n",
       "..  ...           ...\n",
       "68  NaN  10.17.29.101\n",
       "69  NaN  10.17.29.102\n",
       "70  NaN  10.17.29.103\n",
       "71  NaN  10.17.29.104\n",
       "72  NaN  10.17.29.105\n",
       "\n",
       "[73 rows x 2 columns]"
      ]
     },
     "execution_count": 13,
     "metadata": {},
     "output_type": "execute_result"
    }
   ],
   "source": [
    "df"
   ]
  }
 ],
 "metadata": {
  "kernelspec": {
   "display_name": "Python 3 (ipykernel)",
   "language": "python",
   "name": "python3"
  },
  "language_info": {
   "codemirror_mode": {
    "name": "ipython",
    "version": 3
   },
   "file_extension": ".py",
   "mimetype": "text/x-python",
   "name": "python",
   "nbconvert_exporter": "python",
   "pygments_lexer": "ipython3",
   "version": "3.10.9"
  }
 },
 "nbformat": 4,
 "nbformat_minor": 5
}
